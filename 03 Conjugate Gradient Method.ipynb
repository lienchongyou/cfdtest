{
 "cells": [
  {
   "cell_type": "markdown",
   "metadata": {},
   "source": [
    "# 03 Conjugate Gradient Method"
   ]
  },
  {
   "cell_type": "code",
   "execution_count": 1,
   "metadata": {},
   "outputs": [],
   "source": [
    "# Initialisation\n",
    "\n",
    "%matplotlib inline\n",
    "\n",
    "import matplotlib as mpl\n",
    "import numpy as np\n",
    "import matplotlib.pyplot as plt\n",
    "from sympy import *\n",
    "from scipy.sparse import diags\n",
    "from ipywidgets import *\n",
    "from IPython.display import display, Markdown"
   ]
  },
  {
   "cell_type": "markdown",
   "metadata": {},
   "source": [
    "## Problem description\n",
    "\n",
    "We want to solve the system of linear equations\n",
    "\n",
    "$$\n",
    "Ax = b\n",
    "$$\n",
    "\n",
    "for the vector $x$, where $A \\in \\mathbb{R}^{n \\times n}$ and $b, x \\in \\mathbb{R}^{n}$.\n",
    "\n",
    "For this problem, both $A$ and $b$ are known, and the matrix $A$ is symmetric ($A^\\top = A$), positive-definite ($x^\\top A x > 0$ for all non-zero vectors $x$ in $\\mathbb{R}^n$) and real.\n",
    "\n",
    "We denote the solution of this system $x_*$."
   ]
  },
  {
   "cell_type": "markdown",
   "metadata": {},
   "source": [
    "## The method\n",
    "\n",
    "For a given matrix $\\mathbf{A = A^\\top}$, the two vectors $d_i$ and $d_j$ are conjugate with respect to $A$ if\n",
    "\n",
    "$$\n",
    "d_i^\\top A d_j = 0\n",
    "$$\n",
    "\n",
    "Suppose now that\n",
    "\n",
    "$$\n",
    "D = \\left\\{ d_0, d_1, \\dots, d_{n-1} \\right\\}\n",
    "$$\n",
    "\n",
    "is a set of $n$ mutually conjugate vectors with respect to $A$. $D$ then forms a basis for $\\mathbb{R}^n$. (i.e. every element of $\\mathbb{R}^n$ may be written as a linear combination of elements of $D$, which can be shown as all $d_i$ are linearly independent of each other as a result of being mutually conjugate with respect to $A$.)\n",
    "\n",
    "It is thus possible to express the solution $x_*$ as\n",
    "\n",
    "$$\n",
    "x_* = x_0 + \\sum^{n-1}_{i=0} \\alpha_i d_i\n",
    "$$\n",
    "\n",
    "for some $\\alpha_i$, with initial guess $x_0$.\n",
    "\n",
    "We now consider an iterative algorithm\n",
    "\n",
    "$$\n",
    "x_{k+1} = x_k + \\alpha_k d_k\n",
    "$$\n",
    "\n",
    "where $k$ is an iteration in the algorithm. We know from the previous equation that this algorithm must converge to the solution $x_*$ in at most $n$ iterations. We thus need to consider how we select $d_k$ and $\\alpha_k$ for each iteration."
   ]
  },
  {
   "cell_type": "markdown",
   "metadata": {},
   "source": [
    "### Selecting $d_k$\n",
    "\n",
    "We consider the following quadratic function:\n",
    "\n",
    "$$\n",
    "f(x) = \\frac{1}{2} x^\\top A x - x^\\top b, \\quad x \\in \\mathbb{R}^n\n",
    "$$\n",
    "\n",
    "We realise that the (global) minimiser of $f$ is also given by $x_*$ as $\\nabla^2 f(x) = A$ is positive-definite (and thus a minimiser exists), and this minimiser also solves the initial problem as $\\nabla f(x) = Ax - b$.\n",
    "\n",
    "We thus choose, as our first vector $d_0$, the negative of the gradient of $f$ at $x_0$ (i.e. $-\\nabla f(x_0)$).\n",
    "\n",
    "$$\n",
    "d_0 = b - Ax_0\n",
    "$$\n",
    "\n",
    "We now need to find subsequent directions $d_k$ that are conjugate to each other. Let the residual at the $k$-th step be\n",
    "\n",
    "$$\n",
    "r_k = b - A x_k\n",
    "$$\n",
    "\n",
    "We can now find subsequent directions for each iteration as such\n",
    "\n",
    "$$\n",
    "d_{k+1} = r_{k+1} + \\beta_k d_k\n",
    "$$\n",
    "\n",
    "In this example, we use the Fletcher-Reeves formula, where\n",
    "\n",
    "$$\n",
    "\\beta_k = \\frac{r_{k+1}^\\top r_{k+1}}{r_{k}^\\top r_{k}}\n",
    "$$\n",
    "\n",
    "This selection of $\\beta_k$ ensures that $d_{k+1}$ and $d_k$ are conjugate with respect to $A$. "
   ]
  },
  {
   "cell_type": "markdown",
   "metadata": {},
   "source": [
    "### Selecting $\\alpha_k$\n",
    "\n",
    "We substitute $x_{k+1}$ into $f$.\n",
    "\n",
    "$$\n",
    "f \\left( x_{k+1} \\right) = f \\left( x_{k} + \\alpha_k d_k \\right) = \\frac{1}{2} (x_{k} + \\alpha_k d_k)^\\top A (x_{k} + \\alpha_k d_k) - (x_{k} + \\alpha_k d_k)^\\top b\n",
    "$$\n",
    "\n",
    "We then perform an exact line search in the direction $d_k$ by selecting $\\alpha_k$ such the function $f \\left( x_{k} + \\alpha_k d_k \\right)$ is minimised with respect to $\\alpha_k$. We thus get\n",
    "\n",
    "$$\n",
    "\\alpha_k = \\frac{d_k^\\top r_k}{d_k^\\top A d_k}\n",
    "$$"
   ]
  },
  {
   "cell_type": "markdown",
   "metadata": {},
   "source": [
    "## The final algorithm\n",
    "\n",
    "The steps required for the algorithm can be listed as such:\n",
    "\n",
    "**Step 1.** With initial guess $x_0$, set $k = 0$, $d_0 = b - A x_0$ and $r_0 = b - A x_0$.\n",
    "\n",
    "**Step 2.** Let\n",
    "\n",
    "$$\n",
    "x_{k+1} = x_k + \\alpha_k d_k\n",
    "$$\n",
    "\n",
    "with\n",
    "\n",
    "$$\n",
    "\\alpha_k = \\frac{d_k^\\top r_k}{d_k^\\top A d_k}\n",
    "$$\n",
    "\n",
    "**Step 3.** Compute $r_{k+1}$\n",
    "\n",
    "$$\n",
    "r_{k+1} = b - A x_{k+1}\n",
    "$$\n",
    "\n",
    "**Step 4.** Compute $d_{k+1}$\n",
    "\n",
    "$$\n",
    "d_{k+1} = r_{k+1} + \\beta_k d_k\n",
    "$$\n",
    "\n",
    "with\n",
    "\n",
    "$$\n",
    "\\beta_k = \\frac{r_{k+1}^\\top r_{k+1}}{r_{k}^\\top r_{k}}\n",
    "$$\n",
    "\n",
    "**Step 5.** Set $k = k + 1$ and go to **Step 2**.\n",
    "\n",
    "The algorithm can be terminated either when $k = n - 1$ as convergence is guaranteed with $n$ steps, or if residual $r_{k+1}$ is sufficiently small for a given tolerance."
   ]
  },
  {
   "cell_type": "code",
   "execution_count": 12,
   "metadata": {},
   "outputs": [],
   "source": [
    "def conjgrad(A, b, x):\n",
    "    n = np.size(b)\n",
    "    r = b - np.dot(A,x)\n",
    "    d = r\n",
    "    rso = np.dot(r,r)\n",
    "    \n",
    "    # Store all iterations of x\n",
    "    history = []\n",
    "    history.append(x.copy())\n",
    "    \n",
    "    for k in range(n):\n",
    "        Ad = np.dot(A,d)\n",
    "        alpha = (np.dot(d,r))/(np.dot(d,Ad))\n",
    "        x += alpha * d\n",
    "        history.append(x.copy())\n",
    "        r = b - np.dot(A,x)\n",
    "        rsn = np.dot(r,r)\n",
    "        \n",
    "        # Sufficiently small (2-norm)\n",
    "        if sqrt(rsn) < 1e-10:\n",
    "            break\n",
    "        \n",
    "        beta = rsn / rso\n",
    "        d = r + np.dot(beta,d)\n",
    "    \n",
    "    return x, history"
   ]
  },
  {
   "cell_type": "markdown",
   "metadata": {},
   "source": [
    "We can now test our algorithm with the following system of equations:\n",
    "\n",
    "$$\n",
    "\\begin{bmatrix}\n",
    "3 & 1 \\\\\n",
    "1 & 2 \\\\\n",
    "\\end{bmatrix}\n",
    "x = \n",
    "\\begin{bmatrix}\n",
    "2 \\\\\n",
    "3 \\\\\n",
    "\\end{bmatrix}\n",
    "$$\n",
    "\n",
    "The solution to this system is $x^\\top = \\left[ 0.2, 1.4 \\right]$.\n",
    "\n",
    "In the graph output, the red line shows the approximation by the conjugate gradient method at each iteration, while the blue contour lines are from the function $f$."
   ]
  },
  {
   "cell_type": "code",
   "execution_count": 91,
   "metadata": {},
   "outputs": [
    {
     "data": {
      "image/png": "[encoded data removed]",
      "text/plain": [
       "<Figure size 432x288 with 1 Axes>"
      ]
     },
     "metadata": {
      "needs_background": "light"
     },
     "output_type": "display_data"
    }
   ],
   "source": [
    "A = np.array([[3.,1.],[1.,2.]])\n",
    "b = np.array([2.,3.])\n",
    "x = np.array([0.,0.])\n",
    "\n",
    "x, h = conjgrad(A,b,x)\n",
    "\n",
    "y0 = [y for y, _ in h]\n",
    "y1 = [y for _, y in h]\n",
    "m = 21\n",
    "z = np.linspace(-.5,2.5,m)\n",
    "zf = np.zeros((m,m))\n",
    "for i in range(m):\n",
    "    for j in range(m):\n",
    "        zij = np.array([z[j],z[i]])\n",
    "        zf[i,j] = (1/2)*np.dot(zij,np.dot(A,zij)) - np.dot(b,zij)\n",
    "\n",
    "plt.plot(y0,y1,'rx-');\n",
    "plt.contour(z,z,zf,15,colors='b');\n",
    "plt.legend(['Conjugate gradient']);\n",
    "plt.grid()"
   ]
  },
  {
   "cell_type": "code",
   "execution_count": null,
   "metadata": {},
   "outputs": [],
   "source": []
  }
 ],
 "metadata": {
  "kernelspec": {
   "display_name": "Python 3",
   "language": "python",
   "name": "python3"
  },
  "language_info": {
   "codemirror_mode": {
    "name": "ipython",
    "version": 3
   },
   "file_extension": ".py",
   "mimetype": "text/x-python",
   "name": "python",
   "nbconvert_exporter": "python",
   "pygments_lexer": "ipython3",
   "version": "3.7.7"
  }
 },
 "nbformat": 4,
 "nbformat_minor": 4
}
